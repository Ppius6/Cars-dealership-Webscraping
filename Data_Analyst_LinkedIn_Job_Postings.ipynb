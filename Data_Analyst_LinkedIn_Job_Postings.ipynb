{
 "cells": [
  {
   "cell_type": "code",
   "execution_count": 17,
   "metadata": {},
   "outputs": [],
   "source": [
    "from selenium import webdriver\n",
    "import warnings\n",
    "import pandas as pd \n",
    "warnings.filterwarnings('ignore')"
   ]
  },
  {
   "cell_type": "code",
   "execution_count": 20,
   "metadata": {},
   "outputs": [],
   "source": [
    "# Setting up chrome driver\n",
    "\n",
    "DRIVER_PATH = \"C:\\\\Users\\\\Pius\\\\Downloads\\\\Compressed\\\\chromedriver_win32\\\\chromedriver.exe\"\n",
    "driver = webdriver.Chrome(executable_path=DRIVER_PATH)"
   ]
  },
  {
   "cell_type": "code",
   "execution_count": 21,
   "metadata": {},
   "outputs": [],
   "source": [
    "# URL\n",
    "\n",
    "driver.get = 'https://www.linkedin.com/jobs/search/?currentJobId=3288847695&geoId=101165590&keywords=data%20analyst&location=United%20Kingdom&refresh=true'"
   ]
  },
  {
   "cell_type": "code",
   "execution_count": 19,
   "metadata": {},
   "outputs": [],
   "source": [
    "categories = driver.find_elements_by_tag_name('')\n",
    "\n",
    "categories_list = []\n",
    "for c in range(len(categories)):\n",
    "    categories_list.append(categories[c].text)\n"
   ]
  }
 ],
 "metadata": {
  "kernelspec": {
   "display_name": "Python 3.9.12 ('base')",
   "language": "python",
   "name": "python3"
  },
  "language_info": {
   "codemirror_mode": {
    "name": "ipython",
    "version": 3
   },
   "file_extension": ".py",
   "mimetype": "text/x-python",
   "name": "python",
   "nbconvert_exporter": "python",
   "pygments_lexer": "ipython3",
   "version": "3.9.12"
  },
  "orig_nbformat": 4,
  "vscode": {
   "interpreter": {
    "hash": "65293bc6468191d1bdce6a8f6aaa842c65f4d2261c0fc14f58f8c786e1ed186b"
   }
  }
 },
 "nbformat": 4,
 "nbformat_minor": 2
}
