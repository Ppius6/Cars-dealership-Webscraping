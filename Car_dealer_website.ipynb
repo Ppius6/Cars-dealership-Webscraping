{
 "cells": [
  {
   "cell_type": "markdown",
   "metadata": {},
   "source": [
    "Imports"
   ]
  },
  {
   "cell_type": "code",
   "execution_count": 61,
   "metadata": {},
   "outputs": [],
   "source": [
    "from bs4 import BeautifulSoup\n",
    "import requests\n",
    "import pandas as pd"
   ]
  },
  {
   "cell_type": "markdown",
   "metadata": {},
   "source": [
    "HTTP Request"
   ]
  },
  {
   "cell_type": "code",
   "execution_count": 62,
   "metadata": {},
   "outputs": [],
   "source": [
    "# Store website in variable\n",
    "\n",
    "website = \"https://www.cars.com/shopping/results/?stock_type=cpo&makes%5B%5D=mercedes_benz&models%5B%5D=&list_price_max=&maximum_distance=20&zip=\""
   ]
  },
  {
   "cell_type": "code",
   "execution_count": 63,
   "metadata": {},
   "outputs": [],
   "source": [
    "# Get request\n",
    "\n",
    "response = requests.get(website)"
   ]
  },
  {
   "cell_type": "code",
   "execution_count": 64,
   "metadata": {},
   "outputs": [
    {
     "data": {
      "text/plain": [
       "200"
      ]
     },
     "execution_count": 64,
     "metadata": {},
     "output_type": "execute_result"
    }
   ],
   "source": [
    "# Status code\n",
    "\n",
    "response.status_code"
   ]
  },
  {
   "cell_type": "code",
   "execution_count": null,
   "metadata": {},
   "outputs": [],
   "source": [
    "# Soup Object   \n",
    "\n",
    "soup = BeautifulSoup(response.content, 'html.parser')\n",
    "soup"
   ]
  },
  {
   "cell_type": "code",
   "execution_count": null,
   "metadata": {},
   "outputs": [],
   "source": [
    "# Results\n",
    "\n",
    "results = soup.find_all('div', {'class':'vehicle-card'})\n",
    "results"
   ]
  },
  {
   "cell_type": "code",
   "execution_count": 67,
   "metadata": {},
   "outputs": [
    {
     "data": {
      "text/plain": [
       "21"
      ]
     },
     "execution_count": 67,
     "metadata": {},
     "output_type": "execute_result"
    }
   ],
   "source": [
    "len(results)"
   ]
  },
  {
   "cell_type": "code",
   "execution_count": null,
   "metadata": {},
   "outputs": [],
   "source": [
    "results[0]\t"
   ]
  },
  {
   "cell_type": "markdown",
   "metadata": {},
   "source": [
    "Getting the necessary data"
   ]
  },
  {
   "cell_type": "code",
   "execution_count": 69,
   "metadata": {},
   "outputs": [
    {
     "data": {
      "text/plain": [
       "'2019 Mercedes-Benz C-Class C 300'"
      ]
     },
     "execution_count": 69,
     "metadata": {},
     "output_type": "execute_result"
    }
   ],
   "source": [
    "# Name\n",
    "\n",
    "results[0].find('h2', {'class':'title'}).text"
   ]
  },
  {
   "cell_type": "code",
   "execution_count": 70,
   "metadata": {},
   "outputs": [
    {
     "data": {
      "text/plain": [
       "'42,397'"
      ]
     },
     "execution_count": 70,
     "metadata": {},
     "output_type": "execute_result"
    }
   ],
   "source": [
    "# Mileage\n",
    "\n",
    "results[0].find('div', {'class':'mileage'}).text.strip().replace('mi.', '').replace(' ','')"
   ]
  },
  {
   "cell_type": "code",
   "execution_count": 71,
   "metadata": {},
   "outputs": [
    {
     "data": {
      "text/plain": [
       "'4.9'"
      ]
     },
     "execution_count": 71,
     "metadata": {},
     "output_type": "execute_result"
    }
   ],
   "source": [
    "# Rating \n",
    "\n",
    "results[0].find('span', {'class':'sds-rating__count'}).text\t"
   ]
  },
  {
   "cell_type": "code",
   "execution_count": 72,
   "metadata": {},
   "outputs": [
    {
     "data": {
      "text/plain": [
       "'6,299'"
      ]
     },
     "execution_count": 72,
     "metadata": {},
     "output_type": "execute_result"
    }
   ],
   "source": [
    "# Rating count\n",
    "\n",
    "results[0].find('span', {'class':'sds-rating__link sds-button-link'}).text.strip().replace('(','').replace(')','').replace('reviews','').replace(' ','')"
   ]
  },
  {
   "cell_type": "code",
   "execution_count": 73,
   "metadata": {},
   "outputs": [
    {
     "data": {
      "text/plain": [
       "'$31,988'"
      ]
     },
     "execution_count": 73,
     "metadata": {},
     "output_type": "execute_result"
    }
   ],
   "source": [
    "# Price\n",
    "\n",
    "results[0].find('span', {'class':'primary-price'}).text"
   ]
  },
  {
   "cell_type": "code",
   "execution_count": 74,
   "metadata": {},
   "outputs": [
    {
     "data": {
      "text/plain": [
       "\"Walter's Mercedes-Benz of Riverside\""
      ]
     },
     "execution_count": 74,
     "metadata": {},
     "output_type": "execute_result"
    }
   ],
   "source": [
    "# Dealer name\n",
    "\n",
    "results[0].find('div', {'class':'dealer-name'}).text.strip().replace('\\n', ', ')"
   ]
  },
  {
   "cell_type": "markdown",
   "metadata": {},
   "source": [
    "Putting everything in a for loop"
   ]
  },
  {
   "cell_type": "code",
   "execution_count": 75,
   "metadata": {},
   "outputs": [],
   "source": [
    "name = []\n",
    "mileage = []\n",
    "rating = []\n",
    "rating_count = []\n",
    "price = []\n",
    "dealer_name = []\n",
    "\n",
    "for result in results:\n",
    "    \n",
    "    # Name \n",
    "    try:\n",
    "        name.append(result.find('h2', {'class':'title'}).text)\n",
    "    except:\n",
    "        name.append('N/A')\n",
    "        \n",
    "    # Mileage\n",
    "    try:\n",
    "        mileage.append(result.find('div', {'class':'mileage'}).text.strip().replace('mi.', '').replace(' ',''))\n",
    "    except:\n",
    "        mileage.append('N/A')\n",
    "    \n",
    "    # Rating\n",
    "    try:\n",
    "        rating.append(result.find('span', {'class':'sds-rating__count'}).text)\n",
    "    except:\n",
    "        rating.append('N/A')\n",
    "    \n",
    "    # Rating count\n",
    "    try:\n",
    "        rating_count.append(result.find('span', {'class':'sds-rating__link sds-button-link'}).text.strip().replace('(','').replace(')','').replace('reviews','').replace(' ',''))\n",
    "    except:\n",
    "        rating_count.append('N/A')\n",
    "    \n",
    "    # Price\n",
    "    try:\n",
    "        price.append(result.find('span', {'class':'primary-price'}).text)\n",
    "    except:\n",
    "        price.append('N/A')\n",
    "    \n",
    "    # Dealer name\n",
    "    try:\n",
    "        dealer_name.append(result.find('div', {'class':'dealer-name'}).text.strip().replace('\\n', ', '))\n",
    "    except:\n",
    "        dealer_name.append('N/A')\n",
    "    "
   ]
  },
  {
   "cell_type": "markdown",
   "metadata": {},
   "source": [
    "Scrapping from many pages"
   ]
  },
  {
   "cell_type": "code",
   "execution_count": 91,
   "metadata": {},
   "outputs": [],
   "source": [
    "name = []\n",
    "mileage = []\n",
    "rating = []\n",
    "rating_count = []\n",
    "price = []\n",
    "dealer_name = []\n",
    "\n",
    "for i in range(1,171):\n",
    "    \n",
    "    # Website\n",
    "    website = \"https://www.cars.com/shopping/results/?stock_type=cpo&makes%5B%5D=mercedes_benz&models%5B%5D=&list_price_max=&maximum_distance=20&zip=\"\n",
    "    \n",
    "    # Get request\n",
    "    response = requests.get(website)\n",
    "    \n",
    "    # Soup object\n",
    "    soup = BeautifulSoup(response.content, 'html.parser')\n",
    "    \n",
    "    # Results\n",
    "    results =  soup.find_all('div', {'class':'vehicle-card'})\n",
    "    \n",
    "\n",
    "    for result in results:\n",
    "        \n",
    "        # Name \n",
    "        try:\n",
    "            name.append(result.find('h2', {'class':'title'}).text)\n",
    "        except:\n",
    "            name.append('N/A')\n",
    "            \n",
    "        # Mileage\n",
    "        try:\n",
    "            mileage.append(result.find('div', {'class':'mileage'}).text.strip().replace('mi.', '').replace(' ',''))\n",
    "        except:\n",
    "            mileage.append('N/A')\n",
    "        \n",
    "        # Rating\n",
    "        try:\n",
    "            rating.append(result.find('span', {'class':'sds-rating__count'}).text)\n",
    "        except:\n",
    "            rating.append('N/A')\n",
    "        \n",
    "        # Rating count\n",
    "        try:\n",
    "            rating_count.append(result.find('span', {'class':'sds-rating__link sds-button-link'}).text.strip().replace('(','').replace(')','').replace('reviews','').replace(' ',''))\n",
    "        except:\n",
    "            rating_count.append('N/A')\n",
    "        \n",
    "        # Price\n",
    "        try:\n",
    "            price.append(result.find('span', {'class':'primary-price'}).text)\n",
    "        except:\n",
    "            price.append('N/A')\n",
    "        \n",
    "        # Dealer name\n",
    "        try:\n",
    "            dealer_name.append(result.find('div', {'class':'dealer-name'}).text.strip().replace('\\n', ', '))\n",
    "        except:\n",
    "            dealer_name.append('N/A')"
   ]
  },
  {
   "cell_type": "markdown",
   "metadata": {},
   "source": [
    "Pandas Dataframe"
   ]
  },
  {
   "cell_type": "code",
   "execution_count": 93,
   "metadata": {},
   "outputs": [
    {
     "data": {
      "text/html": [
       "<div>\n",
       "<style scoped>\n",
       "    .dataframe tbody tr th:only-of-type {\n",
       "        vertical-align: middle;\n",
       "    }\n",
       "\n",
       "    .dataframe tbody tr th {\n",
       "        vertical-align: top;\n",
       "    }\n",
       "\n",
       "    .dataframe thead th {\n",
       "        text-align: right;\n",
       "    }\n",
       "</style>\n",
       "<table border=\"1\" class=\"dataframe\">\n",
       "  <thead>\n",
       "    <tr style=\"text-align: right;\">\n",
       "      <th></th>\n",
       "      <th>Name</th>\n",
       "      <th>Dealer Name</th>\n",
       "      <th>Price</th>\n",
       "      <th>Mileage</th>\n",
       "      <th>Rating</th>\n",
       "      <th>Rating Count</th>\n",
       "    </tr>\n",
       "  </thead>\n",
       "  <tbody>\n",
       "    <tr>\n",
       "      <th>0</th>\n",
       "      <td>2016 Mercedes-Benz GLC-Class GLC 300</td>\n",
       "      <td>Mercedes-Benz of Laguna Niguel</td>\n",
       "      <td>$25,604</td>\n",
       "      <td>47,691</td>\n",
       "      <td>4.8</td>\n",
       "      <td>1,708</td>\n",
       "    </tr>\n",
       "    <tr>\n",
       "      <th>1</th>\n",
       "      <td>2022 Mercedes-Benz GLS 450 4MATIC</td>\n",
       "      <td>Mercedes-Benz Of Tacoma</td>\n",
       "      <td>$89,989</td>\n",
       "      <td>4,256</td>\n",
       "      <td>4.4</td>\n",
       "      <td>3,075</td>\n",
       "    </tr>\n",
       "    <tr>\n",
       "      <th>2</th>\n",
       "      <td>2020 Mercedes-Benz AMG SLC 43 Base</td>\n",
       "      <td>Mercedes-Benz of Portland</td>\n",
       "      <td>$64,017</td>\n",
       "      <td>9,263</td>\n",
       "      <td>4.6</td>\n",
       "      <td>1,478</td>\n",
       "    </tr>\n",
       "    <tr>\n",
       "      <th>3</th>\n",
       "      <td>2021 Mercedes-Benz GLB 250 Base 4MATIC</td>\n",
       "      <td>Mercedes-Benz of Portland</td>\n",
       "      <td>$38,989</td>\n",
       "      <td>4,481</td>\n",
       "      <td>4.6</td>\n",
       "      <td>1,478</td>\n",
       "    </tr>\n",
       "    <tr>\n",
       "      <th>4</th>\n",
       "      <td>2020 Mercedes-Benz GLA 250 Base</td>\n",
       "      <td>Mercedes-Benz of South Bay</td>\n",
       "      <td>$31,896</td>\n",
       "      <td>28,475</td>\n",
       "      <td>4.6</td>\n",
       "      <td>1,421</td>\n",
       "    </tr>\n",
       "    <tr>\n",
       "      <th>...</th>\n",
       "      <td>...</td>\n",
       "      <td>...</td>\n",
       "      <td>...</td>\n",
       "      <td>...</td>\n",
       "      <td>...</td>\n",
       "      <td>...</td>\n",
       "    </tr>\n",
       "    <tr>\n",
       "      <th>3565</th>\n",
       "      <td>2022 Mercedes-Benz GLB 250 Base</td>\n",
       "      <td>Mercedes-Benz of South Orlando</td>\n",
       "      <td>$43,007</td>\n",
       "      <td>1,915</td>\n",
       "      <td>4.7</td>\n",
       "      <td>1,294</td>\n",
       "    </tr>\n",
       "    <tr>\n",
       "      <th>3566</th>\n",
       "      <td>2020 Mercedes-Benz AMG GT 63 S 4-Door</td>\n",
       "      <td>Mercedes-Benz of Orlando</td>\n",
       "      <td>$165,990</td>\n",
       "      <td>5,625</td>\n",
       "      <td>4.7</td>\n",
       "      <td>770</td>\n",
       "    </tr>\n",
       "    <tr>\n",
       "      <th>3567</th>\n",
       "      <td>2019 Mercedes-Benz GLC 300 Base</td>\n",
       "      <td>Mercedes-Benz of Miami</td>\n",
       "      <td>$26,995</td>\n",
       "      <td>55,795</td>\n",
       "      <td>4.5</td>\n",
       "      <td>1,133</td>\n",
       "    </tr>\n",
       "    <tr>\n",
       "      <th>3568</th>\n",
       "      <td>2018 Mercedes-Benz AMG GLC 43 Base 4MATIC</td>\n",
       "      <td>Mercedes-Benz of Orlando</td>\n",
       "      <td>$39,990</td>\n",
       "      <td>45,076</td>\n",
       "      <td>4.7</td>\n",
       "      <td>770</td>\n",
       "    </tr>\n",
       "    <tr>\n",
       "      <th>3569</th>\n",
       "      <td>2018 Mercedes-Benz GLE 350 Base 4MATIC</td>\n",
       "      <td>Mercedes-Benz of Pleasanton</td>\n",
       "      <td>$36,442</td>\n",
       "      <td>49,188</td>\n",
       "      <td>2.5</td>\n",
       "      <td>56</td>\n",
       "    </tr>\n",
       "  </tbody>\n",
       "</table>\n",
       "<p>3570 rows × 6 columns</p>\n",
       "</div>"
      ],
      "text/plain": [
       "                                           Name  \\\n",
       "0          2016 Mercedes-Benz GLC-Class GLC 300   \n",
       "1             2022 Mercedes-Benz GLS 450 4MATIC   \n",
       "2            2020 Mercedes-Benz AMG SLC 43 Base   \n",
       "3        2021 Mercedes-Benz GLB 250 Base 4MATIC   \n",
       "4               2020 Mercedes-Benz GLA 250 Base   \n",
       "...                                         ...   \n",
       "3565            2022 Mercedes-Benz GLB 250 Base   \n",
       "3566      2020 Mercedes-Benz AMG GT 63 S 4-Door   \n",
       "3567            2019 Mercedes-Benz GLC 300 Base   \n",
       "3568  2018 Mercedes-Benz AMG GLC 43 Base 4MATIC   \n",
       "3569     2018 Mercedes-Benz GLE 350 Base 4MATIC   \n",
       "\n",
       "                         Dealer Name     Price Mileage Rating Rating Count  \n",
       "0     Mercedes-Benz of Laguna Niguel   $25,604  47,691    4.8        1,708  \n",
       "1            Mercedes-Benz Of Tacoma   $89,989   4,256    4.4        3,075  \n",
       "2          Mercedes-Benz of Portland   $64,017   9,263    4.6        1,478  \n",
       "3          Mercedes-Benz of Portland   $38,989   4,481    4.6        1,478  \n",
       "4         Mercedes-Benz of South Bay   $31,896  28,475    4.6        1,421  \n",
       "...                              ...       ...     ...    ...          ...  \n",
       "3565  Mercedes-Benz of South Orlando   $43,007   1,915    4.7        1,294  \n",
       "3566        Mercedes-Benz of Orlando  $165,990   5,625    4.7          770  \n",
       "3567          Mercedes-Benz of Miami   $26,995  55,795    4.5        1,133  \n",
       "3568        Mercedes-Benz of Orlando   $39,990  45,076    4.7          770  \n",
       "3569     Mercedes-Benz of Pleasanton   $36,442  49,188    2.5           56  \n",
       "\n",
       "[3570 rows x 6 columns]"
      ]
     },
     "execution_count": 93,
     "metadata": {},
     "output_type": "execute_result"
    }
   ],
   "source": [
    "car_dealer = pd.DataFrame({'Name': name, 'Dealer Name': dealer_name, 'Price': price, 'Mileage': mileage, 'Rating': rating, 'Rating Count': rating_count,})\n",
    "car_dealer"
   ]
  }
 ],
 "metadata": {
  "kernelspec": {
   "display_name": "Python 3.9.12 ('base')",
   "language": "python",
   "name": "python3"
  },
  "language_info": {
   "codemirror_mode": {
    "name": "ipython",
    "version": 3
   },
   "file_extension": ".py",
   "mimetype": "text/x-python",
   "name": "python",
   "nbconvert_exporter": "python",
   "pygments_lexer": "ipython3",
   "version": "3.9.12"
  },
  "orig_nbformat": 4,
  "vscode": {
   "interpreter": {
    "hash": "65293bc6468191d1bdce6a8f6aaa842c65f4d2261c0fc14f58f8c786e1ed186b"
   }
  }
 },
 "nbformat": 4,
 "nbformat_minor": 2
}
