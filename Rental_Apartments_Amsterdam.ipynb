{
 "cells": [
  {
   "cell_type": "code",
   "execution_count": 13,
   "metadata": {},
   "outputs": [],
   "source": [
    "from bs4 import BeautifulSoup\n",
    "import requests\n",
    "from csv import writer\n"
   ]
  },
  {
   "cell_type": "code",
   "execution_count": 14,
   "metadata": {},
   "outputs": [],
   "source": [
    "url = 'https://www.pararius.com/apartments/amsterdam'\n",
    "page = requests.get(url)"
   ]
  },
  {
   "cell_type": "code",
   "execution_count": 16,
   "metadata": {},
   "outputs": [],
   "source": [
    "soup = BeautifulSoup(page.content, 'html.parser')\n",
    "lists = soup.find_all('section', class_= \"listing-search-item\")"
   ]
  },
  {
   "cell_type": "code",
   "execution_count": 19,
   "metadata": {},
   "outputs": [],
   "source": [
    "with open('rental_apartments_amsterdam.csv', 'w', encoding = 'utf8', newline = '') as csv_file:\n",
    "    thewriter = writer(csv_file)\n",
    "    header = ['Title', 'Location', 'Price', 'Area']\n",
    "    thewriter.writerow(header)\n",
    "\n",
    "    for list in lists:\n",
    "        title = list.find('a', class_ = \"listing-search-item__link listing-search-item__link--title\").text.replace('\\n', '')\n",
    "        location = list.find('div', class_ = \"listing-search-item__sub-title\").text.replace('\\n', '')\n",
    "        price = list.find('div', class_ = \"listing-search-item__price\").text.replace('\\n', '')\n",
    "        area = list.find('li', class_ = \"illustrated-features__item\").text.replace('\\n', '')\n",
    "        info = [title, location, price, area]\n",
    "        thewriter.writerow(info)\n",
    "        \n"
   ]
  }
 ],
 "metadata": {
  "kernelspec": {
   "display_name": "Python 3.9.7",
   "language": "python",
   "name": "python3"
  },
  "language_info": {
   "codemirror_mode": {
    "name": "ipython",
    "version": 3
   },
   "file_extension": ".py",
   "mimetype": "text/x-python",
   "name": "python",
   "nbconvert_exporter": "python",
   "pygments_lexer": "ipython3",
   "version": "3.9.7"
  },
  "orig_nbformat": 4,
  "vscode": {
   "interpreter": {
    "hash": "65293bc6468191d1bdce6a8f6aaa842c65f4d2261c0fc14f58f8c786e1ed186b"
   }
  }
 },
 "nbformat": 4,
 "nbformat_minor": 2
}
