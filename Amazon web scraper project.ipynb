{
 "cells": [
  {
   "cell_type": "code",
   "execution_count": 19,
   "metadata": {},
   "outputs": [],
   "source": [
    "#Importing libraries\n",
    "\n",
    "from bs4 import BeautifulSoup\n",
    "import requests\n",
    "import smtplib\n",
    "import time\n",
    "import datetime"
   ]
  },
  {
   "cell_type": "code",
   "execution_count": 22,
   "metadata": {},
   "outputs": [
    {
     "name": "stdout",
     "output_type": "stream",
     "text": [
      "\n",
      "            Soundcore by Anker Life Q30 Hybrid Active Noise Cancelling Headphones with Multiple Modes, Hi-Res Sound, Custom EQ via App, 40H Playtime, Comfortable Fit, Bluetooth Headphones, Multipoint Connection\n",
      "           \n"
     ]
    }
   ],
   "source": [
    "#Connecting to the website\n",
    "\n",
    "URL = 'https://www.amazon.com/Soundcore-Cancelling-Headphones-Comfortable-Bluetooth/dp/B08Q89DN6V/?_encoding=UTF8&pd_rd_w=sdksz&content-id=amzn1.sym.0df9d7df-4af4-4ede-b4e6-260a00b4e2c1&pf_rd_p=0df9d7df-4af4-4ede-b4e6-260a00b4e2c1&pf_rd_r=4N51YZYY3GA4CECGP6BM&pd_rd_wg=7ckY2&pd_rd_r=027033d1-69dc-4776-9630-54b61d1a9ec2&ref_=pd_gw_ci_mcx_mi&th=1'\n",
    "headers = {\"User-Agent\": \"Mozilla/5.0 (Windows NT 10.0; Win64; x64) AppleWebKit/537.36 (KHTML, like Gecko) Chrome/103.0.5060.53 Safari/537.36\", \n",
    "    \"X-Amzn-Trace-Id\": \"Root=1-62b56aaf-637904c97e817c3152869133\"}\n",
    "page = requests.get(URL, headers = headers)\n",
    "Soup1 = BeautifulSoup(page.content, 'html.parser')\n",
    "Soup2 = BeautifulSoup(Soup1.prettify(), 'html.parser')\n",
    "title = Soup2.find(id = 'productTitle').get_text()\n",
    "print(title)"
   ]
  },
  {
   "cell_type": "code",
   "execution_count": null,
   "metadata": {},
   "outputs": [],
   "source": []
  }
 ],
 "metadata": {
  "kernelspec": {
   "display_name": "Python 3.9.7",
   "language": "python",
   "name": "python3"
  },
  "language_info": {
   "codemirror_mode": {
    "name": "ipython",
    "version": 3
   },
   "file_extension": ".py",
   "mimetype": "text/x-python",
   "name": "python",
   "nbconvert_exporter": "python",
   "pygments_lexer": "ipython3",
   "version": "3.9.7"
  },
  "orig_nbformat": 4,
  "vscode": {
   "interpreter": {
    "hash": "65293bc6468191d1bdce6a8f6aaa842c65f4d2261c0fc14f58f8c786e1ed186b"
   }
  }
 },
 "nbformat": 4,
 "nbformat_minor": 2
}
